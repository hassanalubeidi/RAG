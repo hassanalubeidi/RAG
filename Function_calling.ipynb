{
  "nbformat": 4,
  "nbformat_minor": 0,
  "metadata": {
    "colab": {
      "provenance": [],
      "authorship_tag": "ABX9TyOO6qWCZEWvXioP+3MuU95U",
      "include_colab_link": true
    },
    "kernelspec": {
      "name": "python3",
      "display_name": "Python 3"
    },
    "language_info": {
      "name": "python"
    }
  },
  "cells": [
    {
      "cell_type": "markdown",
      "metadata": {
        "id": "view-in-github",
        "colab_type": "text"
      },
      "source": [
        "<a href=\"https://colab.research.google.com/github/hassanalubeidi/RAG/blob/main/Function_calling.ipynb\" target=\"_parent\"><img src=\"https://colab.research.google.com/assets/colab-badge.svg\" alt=\"Open In Colab\"/></a>"
      ]
    },
    {
      "cell_type": "code",
      "execution_count": null,
      "metadata": {
        "colab": {
          "base_uri": "https://localhost:8080/"
        },
        "id": "7qHrYKJAWXxp",
        "outputId": "39fb1687-065a-40ea-9676-25ea9d64adb9"
      },
      "outputs": [
        {
          "output_type": "stream",
          "name": "stdout",
          "text": [
            "Requirement already satisfied: openai in /usr/local/lib/python3.10/dist-packages (1.54.4)\n",
            "Requirement already satisfied: anyio<5,>=3.5.0 in /usr/local/lib/python3.10/dist-packages (from openai) (3.7.1)\n",
            "Requirement already satisfied: distro<2,>=1.7.0 in /usr/local/lib/python3.10/dist-packages (from openai) (1.9.0)\n",
            "Requirement already satisfied: httpx<1,>=0.23.0 in /usr/local/lib/python3.10/dist-packages (from openai) (0.27.2)\n",
            "Requirement already satisfied: jiter<1,>=0.4.0 in /usr/local/lib/python3.10/dist-packages (from openai) (0.7.1)\n",
            "Requirement already satisfied: pydantic<3,>=1.9.0 in /usr/local/lib/python3.10/dist-packages (from openai) (2.9.2)\n",
            "Requirement already satisfied: sniffio in /usr/local/lib/python3.10/dist-packages (from openai) (1.3.1)\n",
            "Requirement already satisfied: tqdm>4 in /usr/local/lib/python3.10/dist-packages (from openai) (4.66.6)\n",
            "Requirement already satisfied: typing-extensions<5,>=4.11 in /usr/local/lib/python3.10/dist-packages (from openai) (4.12.2)\n",
            "Requirement already satisfied: idna>=2.8 in /usr/local/lib/python3.10/dist-packages (from anyio<5,>=3.5.0->openai) (3.10)\n",
            "Requirement already satisfied: exceptiongroup in /usr/local/lib/python3.10/dist-packages (from anyio<5,>=3.5.0->openai) (1.2.2)\n",
            "Requirement already satisfied: certifi in /usr/local/lib/python3.10/dist-packages (from httpx<1,>=0.23.0->openai) (2024.8.30)\n",
            "Requirement already satisfied: httpcore==1.* in /usr/local/lib/python3.10/dist-packages (from httpx<1,>=0.23.0->openai) (1.0.6)\n",
            "Requirement already satisfied: h11<0.15,>=0.13 in /usr/local/lib/python3.10/dist-packages (from httpcore==1.*->httpx<1,>=0.23.0->openai) (0.14.0)\n",
            "Requirement already satisfied: annotated-types>=0.6.0 in /usr/local/lib/python3.10/dist-packages (from pydantic<3,>=1.9.0->openai) (0.7.0)\n",
            "Requirement already satisfied: pydantic-core==2.23.4 in /usr/local/lib/python3.10/dist-packages (from pydantic<3,>=1.9.0->openai) (2.23.4)\n"
          ]
        }
      ],
      "source": [
        "!pip install openai\n",
        "\n",
        "from openai import OpenAI"
      ]
    },
    {
      "cell_type": "code",
      "source": [
        "from google.colab import userdata\n",
        "openai_key=userdata.get('openai-key')\n",
        "\n",
        "client = OpenAI(api_key=openai_key)\n",
        "\n",
        "resp = client.chat.completions.create(\n",
        "    model=\"gpt-4o\",\n",
        "    messages=[\n",
        "        {\"role\": \"system\", \"content\": \"You will answer in 1 sentance\"},\n",
        "        {\n",
        "            \"role\": \"user\",\n",
        "            \"content\": \"What is UBS's 2024 Q3 pre tax profit?\",\n",
        "        },\n",
        "    ],\n",
        ")\n",
        "\n",
        "resp.choices[0].message.content"
      ],
      "metadata": {
        "colab": {
          "base_uri": "https://localhost:8080/",
          "height": 35
        },
        "id": "S61acv_3Wk8R",
        "outputId": "06e1434c-be49-4a30-f908-380c12bff2d4"
      },
      "execution_count": null,
      "outputs": [
        {
          "output_type": "execute_result",
          "data": {
            "text/plain": [
              "\"I don't have access to real-time data, so I can't provide UBS's 2024 Q3 pre-tax profit.\""
            ],
            "application/vnd.google.colaboratory.intrinsic+json": {
              "type": "string"
            }
          },
          "metadata": {},
          "execution_count": 11
        }
      ]
    },
    {
      "cell_type": "code",
      "source": [
        "import json\n",
        "resp = client.chat.completions.create(\n",
        "    model=\"gpt-4o\",\n",
        "    messages=[\n",
        "        {\"role\": \"system\", \"content\": \"You will answer in 1 sentance\"},\n",
        "        {\n",
        "            \"role\": \"user\",\n",
        "            \"content\": \"What is UBS's 2024 Q3 pre tax profit?\",\n",
        "        },\n",
        "    ],\n",
        "    tools=[{\n",
        "        \"type\": \"function\",\n",
        "        \"function\": {\n",
        "            \"name\": \"tavily_search\",\n",
        "            \"description\": \"Get information on recent events from the web.\",\n",
        "            \"parameters\": {\n",
        "                \"type\": \"object\",\n",
        "                \"properties\": {\n",
        "                    \"query\": {\"type\": \"string\", \"description\": \"The search query to use. For example: 'Latest news on Nvidia stock performance'\"},\n",
        "                },\n",
        "                \"required\": [\"query\"]\n",
        "            }\n",
        "        }\n",
        "    }]\n",
        ")\n",
        "\n",
        "print(resp)\n",
        "tool_call_resp = resp.choices[0].message.tool_calls[0].function.arguments\n",
        "print(tool_call_resp)\n",
        "tool_call = json.loads(tool_call_resp)\n",
        "tool_call"
      ],
      "metadata": {
        "colab": {
          "base_uri": "https://localhost:8080/"
        },
        "id": "bVa5_-8MW2H7",
        "outputId": "e2b7b478-24b2-41b2-d182-fd8466669e0c"
      },
      "execution_count": null,
      "outputs": [
        {
          "output_type": "stream",
          "name": "stdout",
          "text": [
            "ChatCompletion(id='chatcmpl-AUiuhCy6Jgs3snsMHlxnLnmf85jNJ', choices=[Choice(finish_reason='tool_calls', index=0, logprobs=None, message=ChatCompletionMessage(content=None, refusal=None, role='assistant', audio=None, function_call=None, tool_calls=[ChatCompletionMessageToolCall(id='call_ytelcFfiNM5t2nD6oXjCAGUg', function=Function(arguments='{\"query\":\"UBS 2024 Q3 pre tax profit\"}', name='tavily_search'), type='function')]))], created=1731885851, model='gpt-4o-2024-08-06', object='chat.completion', service_tier=None, system_fingerprint='fp_831e067d82', usage=CompletionUsage(completion_tokens=25, prompt_tokens=87, total_tokens=112, completion_tokens_details=CompletionTokensDetails(accepted_prediction_tokens=0, audio_tokens=0, reasoning_tokens=0, rejected_prediction_tokens=0), prompt_tokens_details=PromptTokensDetails(audio_tokens=0, cached_tokens=0)))\n",
            "{\"query\":\"UBS 2024 Q3 pre tax profit\"}\n"
          ]
        },
        {
          "output_type": "execute_result",
          "data": {
            "text/plain": [
              "{'query': 'UBS 2024 Q3 pre tax profit'}"
            ]
          },
          "metadata": {},
          "execution_count": 21
        }
      ]
    },
    {
      "cell_type": "code",
      "source": [
        "!pip install tavily-python"
      ],
      "metadata": {
        "colab": {
          "base_uri": "https://localhost:8080/"
        },
        "id": "py086KiPccPu",
        "outputId": "a0b12874-1f0a-4fff-9a49-db5a5c114f73"
      },
      "execution_count": null,
      "outputs": [
        {
          "output_type": "stream",
          "name": "stdout",
          "text": [
            "Collecting tavily-python\n",
            "  Downloading tavily_python-0.5.0-py3-none-any.whl.metadata (11 kB)\n",
            "Requirement already satisfied: requests in /usr/local/lib/python3.10/dist-packages (from tavily-python) (2.32.3)\n",
            "Collecting tiktoken>=0.5.1 (from tavily-python)\n",
            "  Downloading tiktoken-0.8.0-cp310-cp310-manylinux_2_17_x86_64.manylinux2014_x86_64.whl.metadata (6.6 kB)\n",
            "Requirement already satisfied: httpx in /usr/local/lib/python3.10/dist-packages (from tavily-python) (0.27.2)\n",
            "Requirement already satisfied: regex>=2022.1.18 in /usr/local/lib/python3.10/dist-packages (from tiktoken>=0.5.1->tavily-python) (2024.9.11)\n",
            "Requirement already satisfied: charset-normalizer<4,>=2 in /usr/local/lib/python3.10/dist-packages (from requests->tavily-python) (3.4.0)\n",
            "Requirement already satisfied: idna<4,>=2.5 in /usr/local/lib/python3.10/dist-packages (from requests->tavily-python) (3.10)\n",
            "Requirement already satisfied: urllib3<3,>=1.21.1 in /usr/local/lib/python3.10/dist-packages (from requests->tavily-python) (2.2.3)\n",
            "Requirement already satisfied: certifi>=2017.4.17 in /usr/local/lib/python3.10/dist-packages (from requests->tavily-python) (2024.8.30)\n",
            "Requirement already satisfied: anyio in /usr/local/lib/python3.10/dist-packages (from httpx->tavily-python) (3.7.1)\n",
            "Requirement already satisfied: httpcore==1.* in /usr/local/lib/python3.10/dist-packages (from httpx->tavily-python) (1.0.6)\n",
            "Requirement already satisfied: sniffio in /usr/local/lib/python3.10/dist-packages (from httpx->tavily-python) (1.3.1)\n",
            "Requirement already satisfied: h11<0.15,>=0.13 in /usr/local/lib/python3.10/dist-packages (from httpcore==1.*->httpx->tavily-python) (0.14.0)\n",
            "Requirement already satisfied: exceptiongroup in /usr/local/lib/python3.10/dist-packages (from anyio->httpx->tavily-python) (1.2.2)\n",
            "Downloading tavily_python-0.5.0-py3-none-any.whl (14 kB)\n",
            "Downloading tiktoken-0.8.0-cp310-cp310-manylinux_2_17_x86_64.manylinux2014_x86_64.whl (1.2 MB)\n",
            "\u001b[2K   \u001b[90m━━━━━━━━━━━━━━━━━━━━━━━━━━━━━━━━━━━━━━━━\u001b[0m \u001b[32m1.2/1.2 MB\u001b[0m \u001b[31m16.3 MB/s\u001b[0m eta \u001b[36m0:00:00\u001b[0m\n",
            "\u001b[?25hInstalling collected packages: tiktoken, tavily-python\n",
            "Successfully installed tavily-python-0.5.0 tiktoken-0.8.0\n"
          ]
        }
      ]
    },
    {
      "cell_type": "code",
      "source": [
        "\n",
        "\n",
        "from tavily import TavilyClient\n",
        "tavily_client = TavilyClient(userdata.get('tavily-key'))\n",
        "tavily_results = tavily_client.get_search_context(tool_call[\"query\"])\n",
        "tavily_results"
      ],
      "metadata": {
        "colab": {
          "base_uri": "https://localhost:8080/",
          "height": 87
        },
        "id": "jiTR7qihb8T5",
        "outputId": "4b2d4740-1d1e-4804-fe69-09068c1ffd20"
      },
      "execution_count": null,
      "outputs": [
        {
          "output_type": "execute_result",
          "data": {
            "text/plain": [
              "'\"[\\\\\"{\\\\\\\\\\\\\"url\\\\\\\\\\\\\": \\\\\\\\\\\\\"https://www.morningstar.com/news/marketwatch/20241030167/ubs-smashes-forecasts-with-bumper-profit-warns-of-volatility-around-us-elections\\\\\\\\\\\\\", \\\\\\\\\\\\\"content\\\\\\\\\\\\\": \\\\\\\\\\\\\"The Swiss bank beat forecasts in posting a 31% increase in its pre-tax profits, to $1.9 billion, in the third quarter of 2024, versus the $1.7 billion forecast by 15 analysts polled by UBS itself.\\\\\\\\\\\\\"}\\\\\", \\\\\"{\\\\\\\\\\\\\"url\\\\\\\\\\\\\": \\\\\\\\\\\\\"https://www.ubs.com/global/en/media/display-page-ndp/en-20241030-3q24-quarterly-result.html\\\\\\\\\\\\\", \\\\\\\\\\\\\"content\\\\\\\\\\\\\": \\\\\\\\\\\\\"UBS\\'s third-quarter 2024 results | UBS Global UBS\\'s third-quarter 2024 results UBS reports 3Q24 net profit of USD 1.4bn with 6.2trn in invested assets; delivering for clients, executing on integration at pace and investing for growth Continued client momentum with USD 25bn of net new assets in Global Wealth Management, on track to deliver on our ambition of USD ~100bn in NNA for 2024; Group invested assets of USD 6.2trn, up 15% YoY; granted or renewed CHF ~35bn in loans in Switzerland in the quarter Refer to \\\\\\\\\\\\\\\\u201cGroup Performance\\\\\\\\\\\\\\\\u201d and \\\\\\\\\\\\\\\\u201cAppendix-Alternative Performance Measures\\\\\\\\\\\\\\\\u201d in the financial report for the third quarter of 2024 for a reconciliation of underlying to reported results and definitions of the APMs. UBS Group AG UBS\\'s third-quarter 2024 results Information on UBS\\\\\\\\\\\\\"}\\\\\", \\\\\"{\\\\\\\\\\\\\"url\\\\\\\\\\\\\": \\\\\\\\\\\\\"https://www.financial-planning.com/news/ubs-q3-profits-wealth-management-revenues-make-a-comeback\\\\\\\\\\\\\", \\\\\\\\\\\\\"content\\\\\\\\\\\\\": \\\\\\\\\\\\\"UBS Q3 profits, wealth management revenues make a comeback | Financial Planning UBS\\'s global wealth management reported higher profits in the third quarter, turning a corner after several quarters of lower revenue as the Swiss banking titan edges closer to completing its integration of collapsed competitor Credit Suisse. Zurich-based UBS reported Oct. 30 that its wealth management group grew revenue by 2.7% to nearly $6 billion in the third quarter compared to the prior quarter, resulting in a 10% jump in underlying pre-tax profit to $1.3 billion during the same period. Just before the earnings release, UBS Group AG Chairman Colm Kelleher was at an event in Oxford on Oct. 29, when he said UBS will eventually look to buy another U.S. wealth management firm once the Credit Suisse integration is complete.\\\\\\\\\\\\\"}\\\\\", \\\\\"{\\\\\\\\\\\\\"url\\\\\\\\\\\\\": \\\\\\\\\\\\\"https://finance.yahoo.com/news/ubs-group-ag-ubs-q3-070231627.html\\\\\\\\\\\\\", \\\\\\\\\\\\\"content\\\\\\\\\\\\\": \\\\\\\\\\\\\"UBS Group AG (UBS) Q3 2024 Earnings Call Highlights: Strong Profit Growth and Strategic ... UBS Group AG (UBS) Q3 2024 Earnings Call Highlights: Strong Profit Growth and Strategic ... UBS Group AG (NYSE:UBS) reported a strong financial performance with a net profit of $1.4 billion and an underlying PBT of $2.4 billion for the third quarter. Regulatory changes in Switzerland could impact future plans, but UBS\\'s current capital position is strong, and they do not expect immediate changes to their 2025 capital return ambitions. Q: How are lower interest rates affecting UBS\\'s US wealth management business, particularly regarding sweep deposits and loan growth? A: Todd Tuckner highlighted that while UBS has achieved a 9.2% return on CET1 capital year-to-date, they do not expect a straight-line extrapolation into 2025.\\\\\\\\\\\\\"}\\\\\", \\\\\"{\\\\\\\\\\\\\"url\\\\\\\\\\\\\": \\\\\\\\\\\\\"https://www.morningstar.com/news/business-wire/20241029198989/ubs-reports-3q24-net-profit-of-usd-14bn-with-62trn-in-invested-assets-delivering-for-clients-executing-on-integration-at-pace-and-investing-for-growth-ad-hoc-announcement-pursuant-to-article-53-of-the-six-exchange-regulation-listing-rules\\\\\\\\\\\\\", \\\\\\\\\\\\\"content\\\\\\\\\\\\\": \\\\\\\\\\\\\"Profit before tax 1.9 USD bn ... On a standalone basis as of 30 September 2024, UBS AG\\'s fully applied CET1 capital ratio is expected to be around 13.3%. ... Non-core and Legacy is expected to\\\\\\\\\\\\\"}\\\\\"]\"'"
            ],
            "application/vnd.google.colaboratory.intrinsic+json": {
              "type": "string"
            }
          },
          "metadata": {},
          "execution_count": 30
        }
      ]
    },
    {
      "cell_type": "code",
      "source": [
        "resp = client.chat.completions.create(\n",
        "    model=\"gpt-4o\",\n",
        "    messages=[\n",
        "        {\"role\": \"system\", \"content\": \"You will answer in 1 sentance\"},\n",
        "        {\"role\": \"user\",\"content\": f\"context: {str(tavily_results)}\"},\n",
        "        {\n",
        "            \"role\": \"user\",\n",
        "            \"content\": \"What is UBS's 2024 Q3 pre tax profit?\",\n",
        "        },\n",
        "    ],\n",
        "    tools=[{\n",
        "        \"type\": \"function\",\n",
        "        \"function\": {\n",
        "            \"name\": \"tavily_search\",\n",
        "            \"description\": \"Get information on recent events from the web.\",\n",
        "            \"parameters\": {\n",
        "                \"type\": \"object\",\n",
        "                \"properties\": {\n",
        "                    \"query\": {\"type\": \"string\", \"description\": \"The search query to use. For example: 'Latest news on Nvidia stock performance'\"},\n",
        "                },\n",
        "                \"required\": [\"query\"]\n",
        "            }\n",
        "        }\n",
        "    }]\n",
        ")\n",
        "\n",
        "resp.choices[0].message.content"
      ],
      "metadata": {
        "colab": {
          "base_uri": "https://localhost:8080/",
          "height": 35
        },
        "id": "m5foAhlFc3LL",
        "outputId": "14458a12-178f-42e3-96f8-37d542d1857c"
      },
      "execution_count": null,
      "outputs": [
        {
          "output_type": "execute_result",
          "data": {
            "text/plain": [
              "\"UBS's 2024 Q3 pre-tax profit is $1.9 billion.\""
            ],
            "application/vnd.google.colaboratory.intrinsic+json": {
              "type": "string"
            }
          },
          "metadata": {},
          "execution_count": 35
        }
      ]
    }
  ]
}